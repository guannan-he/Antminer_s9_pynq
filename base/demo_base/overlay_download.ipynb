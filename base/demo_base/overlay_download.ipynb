{
 "cells": [
  {
   "cell_type": "markdown",
   "metadata": {},
   "source": [
    "# Downloading Overlays\n",
    "\n",
    "This notebook demonstrates how to download an FPGA overlay and examine programmable logic state.  \n",
    "\n",
    "## 1. Instantiating an overlay\n",
    "With the following overlay bundle present in the `overlays` folder, users can instantiate the overlay easily.\n",
    "\n",
    "*  A bitstream file (\\*.bit).\n",
    "*  An hwh file (\\*.hwh).\n",
    "*  A python class (\\*.py).\n",
    "\n",
    "For example, an overlay called `base` can be loaded by:\n",
    "```python\n",
    "from pynq.overlays.base import BaseOverlay\n",
    "overlay = BaseOverlay(\"base.bit\")\n",
    "```\n",
    "Users can also use the absolute file path of the bitstream to instantiate the overlay.\n",
    "\n",
    "In this notebook, we get the current bitstream loaded on PL, and try to download it multiple times."
   ]
  },
  {
   "cell_type": "code",
   "execution_count": 1,
   "metadata": {},
   "outputs": [
    {
     "data": {
      "application/javascript": [
       "\n",
       "try {\n",
       "require(['notebook/js/codecell'], function(codecell) {\n",
       "  codecell.CodeCell.options_default.highlight_modes[\n",
       "      'magic_text/x-csrc'] = {'reg':[/^%%microblaze/]};\n",
       "  Jupyter.notebook.events.one('kernel_ready.Kernel', function(){\n",
       "      Jupyter.notebook.get_cells().map(function(cell){\n",
       "          if (cell.cell_type == 'code'){ cell.auto_highlight(); } }) ;\n",
       "  });\n",
       "});\n",
       "} catch (e) {};\n"
      ]
     },
     "metadata": {},
     "output_type": "display_data"
    },
    {
     "data": {
      "application/javascript": [
       "\n",
       "try {\n",
       "require(['notebook/js/codecell'], function(codecell) {\n",
       "  codecell.CodeCell.options_default.highlight_modes[\n",
       "      'magic_text/x-csrc'] = {'reg':[/^%%pybind11/]};\n",
       "  Jupyter.notebook.events.one('kernel_ready.Kernel', function(){\n",
       "      Jupyter.notebook.get_cells().map(function(cell){\n",
       "          if (cell.cell_type == 'code'){ cell.auto_highlight(); } }) ;\n",
       "  });\n",
       "});\n",
       "} catch (e) {};\n"
      ]
     },
     "metadata": {},
     "output_type": "display_data"
    }
   ],
   "source": [
    "import os, warnings\n",
    "from pynq import PL\n",
    "from pynq import Overlay\n",
    "\n",
    "if not os.path.exists(PL.bitfile_name):\n",
    "    warnings.warn('There is no overlay loaded after boot.', UserWarning)"
   ]
  },
  {
   "cell_type": "markdown",
   "metadata": {},
   "source": [
    "**Note**: If you see a warning message in the above cell, it means that no overlay\n",
    "has been loaded after boot, hence the PL server is not aware of the \n",
    "current status of the PL. In that case you won't be able to run this notebook\n",
    "until you manually load an overlay at least once using:\n",
    "\n",
    "```python\n",
    "from pynq import Overlay\n",
    "ol = Overlay('your_overlay.bit')\n",
    "```\n",
    "\n",
    "If you do not see any warning message, you can safely proceed."
   ]
  },
  {
   "cell_type": "code",
   "execution_count": 3,
   "metadata": {},
   "outputs": [
    {
     "name": "stdout",
     "output_type": "stream",
     "text": [
      "Help on Overlay in module pynq.overlay object:\n",
      "\n",
      "class Overlay(pynq.bitstream.Bitstream)\n",
      " |  This class keeps track of a single bitstream's state and contents.\n",
      " |  \n",
      " |  The overlay class holds the state of the bitstream and enables run-time\n",
      " |  protection of bindings.\n",
      " |  \n",
      " |  Our definition of overlay is: \"post-bitstream configurable design\".\n",
      " |  Hence, this class must expose configurability through content discovery\n",
      " |  and runtime protection.\n",
      " |  \n",
      " |  The overlay class exposes the IP and hierarchies as attributes in the\n",
      " |  overlay. If no other drivers are available the `DefaultIP` is constructed\n",
      " |  for IP cores at top level and `DefaultHierarchy` for any hierarchies that\n",
      " |  contain addressable IP. Custom drivers can be bound to IP and hierarchies\n",
      " |  by subclassing `DefaultIP` and `DefaultHierarchy`. See the help entries\n",
      " |  for those class for more details.\n",
      " |  \n",
      " |  This class stores four dictionaries: IP, GPIO, interrupt controller\n",
      " |  and interrupt pin dictionaries.\n",
      " |  \n",
      " |  Each entry of the IP dictionary is a mapping:\n",
      " |  'name' -> {phys_addr, addr_range, type, config, state}, where\n",
      " |  name (str) is the key of the entry.\n",
      " |  phys_addr (int) is the physical address of the IP.\n",
      " |  addr_range (int) is the address range of the IP.\n",
      " |  type (str) is the type of the IP.\n",
      " |  config (dict) is a dictionary of the configuration parameters.\n",
      " |  state (str) is the state information about the IP.\n",
      " |  \n",
      " |  Each entry of the GPIO dictionary is a mapping:\n",
      " |  'name' -> {pin, state}, where\n",
      " |  name (str) is the key of the entry.\n",
      " |  pin (int) is the user index of the GPIO, starting from 0.\n",
      " |  state (str) is the state information about the GPIO.\n",
      " |  \n",
      " |  Each entry in the interrupt controller dictionary is a mapping:\n",
      " |  'name' -> {parent, index}, where\n",
      " |  name (str) is the name of the interrupt controller.\n",
      " |  parent (str) is the name of the parent controller or '' if attached\n",
      " |  directly to the PS.\n",
      " |  index (int) is the index of the interrupt attached to.\n",
      " |  \n",
      " |  Each entry in the interrupt pin dictionary is a mapping:\n",
      " |  'name' -> {controller, index}, where\n",
      " |  name (str) is the name of the pin.\n",
      " |  controller (str) is the name of the interrupt controller.\n",
      " |  index (int) is the line index.\n",
      " |  \n",
      " |  Attributes\n",
      " |  ----------\n",
      " |  bitfile_name : str\n",
      " |      The absolute path of the bitstream.\n",
      " |  dtbo : str\n",
      " |      The absolute path of the dtbo file for the full bitstream.\n",
      " |  ip_dict : dict\n",
      " |      All the addressable IPs from PS. Key is the name of the IP; value is\n",
      " |      a dictionary mapping the physical address, address range, IP type,\n",
      " |      parameters, registers, and the state associated with that IP:\n",
      " |      {str: {'phys_addr' : int, 'addr_range' : int,                'type' : str, 'parameters' : dict, 'registers': dict,                'state' : str}}.\n",
      " |  gpio_dict : dict\n",
      " |      All the GPIO pins controlled by PS. Key is the name of the GPIO pin;\n",
      " |      value is a dictionary mapping user index (starting from 0),\n",
      " |      and the state associated with that GPIO pin:\n",
      " |      {str: {'index' : int, 'state' : str}}.\n",
      " |  interrupt_controllers : dict\n",
      " |      All AXI interrupt controllers in the system attached to\n",
      " |      a PS interrupt line. Key is the name of the controller;\n",
      " |      value is a dictionary mapping parent interrupt controller and the\n",
      " |      line index of this interrupt:\n",
      " |      {str: {'parent': str, 'index' : int}}.\n",
      " |      The PS is the root of the hierarchy and is unnamed.\n",
      " |  interrupt_pins : dict\n",
      " |      All pins in the design attached to an interrupt controller.\n",
      " |      Key is the name of the pin; value is a dictionary\n",
      " |      mapping the interrupt controller and the line index used:\n",
      " |      {str: {'controller' : str, 'index' : int}}.\n",
      " |  pr_dict : dict\n",
      " |      Dictionary mapping from the name of the partial-reconfigurable\n",
      " |      hierarchical blocks to the loaded partial bitstreams:\n",
      " |      {str: {'loaded': str, 'dtbo': str}}.\n",
      " |  device : pynq.Device\n",
      " |      The device that the overlay is loaded on\n",
      " |  \n",
      " |  Method resolution order:\n",
      " |      Overlay\n",
      " |      pynq.bitstream.Bitstream\n",
      " |      builtins.object\n",
      " |  \n",
      " |  Methods defined here:\n",
      " |  \n",
      " |  __dir__(self)\n",
      " |      __dir__() -> list\n",
      " |      default dir() implementation\n",
      " |  \n",
      " |  __getattr__(self, key)\n",
      " |      Overload of __getattr__ to return a driver for an IP or\n",
      " |      hierarchy. Throws an `RuntimeError` if the overlay is not loaded.\n",
      " |  \n",
      " |  __init__(self, bitfile_name, dtbo=None, download=True, ignore_version=False, device=None)\n",
      " |      Return a new Overlay object.\n",
      " |      \n",
      " |      An overlay instantiates a bitstream object as a member initially.\n",
      " |      \n",
      " |      Parameters\n",
      " |      ----------\n",
      " |      bitfile_name : str\n",
      " |          The bitstream name or absolute path as a string.\n",
      " |      dtbo : str\n",
      " |          The dtbo file name or absolute path as a string.\n",
      " |      download : bool\n",
      " |          Whether the overlay should be downloaded.\n",
      " |      ignore_version : bool\n",
      " |          Indicate whether or not to ignore the driver versions.\n",
      " |      device : pynq.Device\n",
      " |          Device on which to load the Overlay. Defaults to\n",
      " |          pynq.Device.active_device\n",
      " |      \n",
      " |      Note\n",
      " |      ----\n",
      " |      This class requires a HWH file to be next to bitstream file\n",
      " |      with same name (e.g. `base.bit` and `base.hwh`).\n",
      " |  \n",
      " |  download(self, dtbo=None)\n",
      " |      The method to download a full bitstream onto PL.\n",
      " |      \n",
      " |      After the bitstream has been downloaded, the \"timestamp\" in PL will be\n",
      " |      updated. In addition, all the dictionaries on PL will\n",
      " |      be reset automatically.\n",
      " |      \n",
      " |      This method will use parameter `dtbo` or `self.dtbo` to configure the\n",
      " |      device tree.\n",
      " |      \n",
      " |      The download method will also configure some of the PS registers\n",
      " |      based on the metadata file provided, e.g. PL clocks,\n",
      " |      AXI master port width.\n",
      " |      \n",
      " |      Parameters\n",
      " |      ----------\n",
      " |      dtbo : str\n",
      " |          The path of the dtbo file.\n",
      " |  \n",
      " |  free(self)\n",
      " |  \n",
      " |  is_loaded(self)\n",
      " |      This method checks whether a bitstream is loaded.\n",
      " |      \n",
      " |      This method returns true if the loaded PL bitstream is same\n",
      " |      as this Overlay's member bitstream.\n",
      " |      \n",
      " |      Returns\n",
      " |      -------\n",
      " |      bool\n",
      " |          True if bitstream is loaded.\n",
      " |  \n",
      " |  load_ip_data(self, ip_name, data)\n",
      " |      This method loads the data to the addressable IP.\n",
      " |      \n",
      " |      Calls the method in the super class to load the data. This method can\n",
      " |      be used to program the IP. For example, users can use this method to\n",
      " |      load the program to the Microblaze processors on PL.\n",
      " |      \n",
      " |      Note\n",
      " |      ----\n",
      " |      The data is assumed to be in binary format (.bin). The data name will\n",
      " |      be stored as a state information in the IP dictionary.\n",
      " |      \n",
      " |      Parameters\n",
      " |      ----------\n",
      " |      ip_name : str\n",
      " |          The name of the addressable IP.\n",
      " |      data : str\n",
      " |          The absolute path of the data to be loaded.\n",
      " |      \n",
      " |      Returns\n",
      " |      -------\n",
      " |      None\n",
      " |  \n",
      " |  pr_download(self, partial_region, partial_bit, dtbo=None)\n",
      " |      The method to download a partial bitstream onto PL.\n",
      " |      \n",
      " |      In this method, the corresponding parser will only be\n",
      " |      added once the `download()` method of the hierarchical block is called.\n",
      " |      \n",
      " |      This method always uses the parameter `dtbo` to configure the device\n",
      " |      tree.\n",
      " |      \n",
      " |      Note\n",
      " |      ----\n",
      " |      There is no check on whether the partial region specified by users\n",
      " |      is really partial-reconfigurable. So users have to make sure the\n",
      " |      `partial_region` provided is correct.\n",
      " |      \n",
      " |      Parameters\n",
      " |      ----------\n",
      " |      partial_region : str\n",
      " |          The name of the hierarchical block corresponding to the PR region.\n",
      " |      partial_bit : str\n",
      " |          The name of the partial bitstream.\n",
      " |      dtbo : str\n",
      " |          The path of the dtbo file.\n",
      " |  \n",
      " |  reset(self)\n",
      " |      This function resets all the dictionaries kept in the overlay.\n",
      " |      \n",
      " |      This function should be used with caution. In most cases, only those\n",
      " |      dictionaries keeping track of states need to be updated.\n",
      " |      \n",
      " |      Returns\n",
      " |      -------\n",
      " |      None\n",
      " |  \n",
      " |  ----------------------------------------------------------------------\n",
      " |  Methods inherited from pynq.bitstream.Bitstream:\n",
      " |  \n",
      " |  insert_dtbo(self, dtbo=None)\n",
      " |      Insert dtbo file into the system.\n",
      " |      \n",
      " |      A simple wrapper of the corresponding method in the PL class. If\n",
      " |      `dtbo` is None, `self.dtbo` will be used to insert the dtbo\n",
      " |      file. In most cases, users should just ignore the parameter\n",
      " |      `dtbo`.\n",
      " |      \n",
      " |      Parameters\n",
      " |      ----------\n",
      " |      dtbo : str\n",
      " |          The relative or absolute path to the device tree segment.\n",
      " |  \n",
      " |  remove_dtbo(self)\n",
      " |      Remove dtbo file from the system.\n",
      " |      \n",
      " |      A simple wrapper of the corresponding method in the PL class. This is\n",
      " |      very useful for partial bitstream downloading, where loading the\n",
      " |      new device tree blob will overwrites the existing device tree blob\n",
      " |      in the same partial region.\n",
      " |  \n",
      " |  ----------------------------------------------------------------------\n",
      " |  Data descriptors inherited from pynq.bitstream.Bitstream:\n",
      " |  \n",
      " |  __dict__\n",
      " |      dictionary for instance variables (if defined)\n",
      " |  \n",
      " |  __weakref__\n",
      " |      list of weak references to the object (if defined)\n",
      "\n"
     ]
    }
   ],
   "source": [
    "ol = Overlay(PL.bitfile_name)\n",
    "help(ol)"
   ]
  },
  {
   "cell_type": "markdown",
   "metadata": {},
   "source": [
    "Now we can check the download timestamp for this overlay."
   ]
  },
  {
   "cell_type": "code",
   "execution_count": 3,
   "metadata": {},
   "outputs": [
    {
     "data": {
      "text/plain": [
       "'2020/10/24 5:42:15 +567623'"
      ]
     },
     "execution_count": 3,
     "metadata": {},
     "output_type": "execute_result"
    }
   ],
   "source": [
    "ol.download()\n",
    "ol.timestamp"
   ]
  },
  {
   "cell_type": "markdown",
   "metadata": {},
   "source": [
    "## 2. Examining the PL state\n",
    "\n",
    "While there can be multiple overlay instances in Python, there is only one bitstream that is currently loaded onto the programmable logic (PL). \n",
    "\n",
    "This bitstream state is held in the singleton class, PL, and is available for user queries."
   ]
  },
  {
   "cell_type": "code",
   "execution_count": 4,
   "metadata": {},
   "outputs": [
    {
     "data": {
      "text/plain": [
       "'/home/xilinx/pynq/overlays/base/base.bit'"
      ]
     },
     "execution_count": 4,
     "metadata": {},
     "output_type": "execute_result"
    }
   ],
   "source": [
    "PL.bitfile_name"
   ]
  },
  {
   "cell_type": "code",
   "execution_count": 5,
   "metadata": {},
   "outputs": [
    {
     "data": {
      "text/plain": [
       "'2020/10/24 5:42:15 +567623'"
      ]
     },
     "execution_count": 5,
     "metadata": {},
     "output_type": "execute_result"
    }
   ],
   "source": [
    "PL.timestamp"
   ]
  },
  {
   "cell_type": "markdown",
   "metadata": {},
   "source": [
    "Users can verify whether an overlay instance is currently loaded using the Overlay is_loaded() method"
   ]
  },
  {
   "cell_type": "code",
   "execution_count": 6,
   "metadata": {},
   "outputs": [
    {
     "data": {
      "text/plain": [
       "True"
      ]
     },
     "execution_count": 6,
     "metadata": {},
     "output_type": "execute_result"
    }
   ],
   "source": [
    "ol.is_loaded()"
   ]
  },
  {
   "cell_type": "markdown",
   "metadata": {},
   "source": [
    "## 3. Overlay downloading overhead\n",
    "\n",
    "Finally, using Python, we can see the bitstream download time over 50 downloads.  "
   ]
  },
  {
   "cell_type": "code",
   "execution_count": 7,
   "metadata": {},
   "outputs": [
    {
     "data": {
      "image/png": "[encoded data removed]",
      "text/plain": [
       "<matplotlib.figure.Figure at 0xafa8e530>"
      ]
     },
     "metadata": {},
     "output_type": "display_data"
    }
   ],
   "source": [
    "import time\n",
    "import matplotlib.pyplot as plt\n",
    "\n",
    "length = 50\n",
    "time_log = []\n",
    "for i in range(length):\n",
    "    start = time.time()\n",
    "    ol.download()\n",
    "    end = time.time()\n",
    "    time_log.append((end-start)*1000)\n",
    "\n",
    "%matplotlib inline\n",
    "plt.plot(range(length), time_log, 'ro')\n",
    "plt.title('Bitstream loading time (ms)')\n",
    "plt.axis([0, length, 0, 1000])\n",
    "plt.show()"
   ]
  },
  {
   "cell_type": "code",
   "execution_count": null,
   "metadata": {},
   "outputs": [],
   "source": [
    "PL."
   ]
  }
 ],
 "metadata": {
  "kernelspec": {
   "display_name": "Python 3",
   "language": "python",
   "name": "python3"
  },
  "language_info": {
   "codemirror_mode": {
    "name": "ipython",
    "version": 3
   },
   "file_extension": ".py",
   "mimetype": "text/x-python",
   "name": "python",
   "nbconvert_exporter": "python",
   "pygments_lexer": "ipython3",
   "version": "3.6.5"
  }
 },
 "nbformat": 4,
 "nbformat_minor": 1
}
